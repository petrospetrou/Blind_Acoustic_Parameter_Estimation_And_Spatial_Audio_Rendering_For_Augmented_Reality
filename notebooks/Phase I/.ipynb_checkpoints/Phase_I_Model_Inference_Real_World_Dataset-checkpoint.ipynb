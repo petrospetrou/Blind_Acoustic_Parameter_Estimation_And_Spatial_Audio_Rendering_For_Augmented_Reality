{
 "cells": [
  {
   "cell_type": "markdown",
   "id": "584f89bc-3643-4e09-98f4-d5477b661cfa",
   "metadata": {},
   "source": [
    "# Evaluate CRNN on real-world Speech Commands recordings\n",
    "\n",
    "*Dataset path:*  \n",
    "`/Users/petros/MSc Computer Science/EECS MSc Project 24-25/Approach_1/data/Speech_Commands_Dataset`\n",
    "\n",
    "This notebook:\n",
    "1. Gathers every `.wav` file under the folder (recursively).  \n",
    "2. Converts each clip to **mono 16 kHz, 5 s**.  \n",
    "3. Extracts a **64-bin log-mel spectrogram** → normalises exactly as in training.  \n",
    "4. Runs the pretrained **CRNN** and de-normalises its three outputs → **RT60, DRR, C50**.  \n",
    "5. Saves a CSV and prints a quick summary plot."
   ]
  },
  {
   "cell_type": "code",
   "execution_count": 1,
   "id": "27b83669-70ab-4aed-a20d-a1ee0e879984",
   "metadata": {},
   "outputs": [],
   "source": [
    "# ==== Imports ====\n",
    "import os, glob, itertools, warnings, json, math\n",
    "import numpy as np\n",
    "import pandas as pd\n",
    "import soundfile as sf\n",
    "import librosa\n",
    "from tqdm import tqdm\n",
    "import torch\n",
    "import torch.nn as nn\n",
    "import matplotlib.pyplot as plt\n",
    "\n",
    "warnings.filterwarnings(\"ignore\")\n",
    "\n",
    "# ==== Paths ====\n",
    "DATA_ROOT = \"\" # Dataset Folder Path\n",
    "MODEL_WEIGHTS = \"\"   # Load Trained Model .pt Format\n",
    "\n",
    "# ==== Audio / feature constants (match training) ====\n",
    "SAMPLE_RATE   = 16_000\n",
    "TARGET_SECS   = 5\n",
    "TARGET_LEN    = SAMPLE_RATE * TARGET_SECS          # 80 000 samples\n",
    "N_MELS        = 64\n",
    "SPEC_EXPECT_T = 160                                # frames after hop=512 on 5 s\n",
    "\n",
    "# Per-label normalisation (from training notebook)\n",
    "LABEL_MEAN = np.array([1.5,  -100.0, -4.0])\n",
    "LABEL_STD  = np.array([0.75,   10.0,  3.0])"
   ]
  },
  {
   "cell_type": "markdown",
   "id": "dd2ca7a8-4731-48cc-bbfc-4c9593562089",
   "metadata": {},
   "source": [
    "### BUT Reverb Dataset"
   ]
  },
  {
   "cell_type": "code",
   "execution_count": 3,
   "id": "d6cc6a62-a600-4702-bc07-710bdfbfbfa9",
   "metadata": {},
   "outputs": [],
   "source": [
    "DATA_ROOT = \"\" # Dataset Folder Path"
   ]
  },
  {
   "cell_type": "code",
   "execution_count": 5,
   "id": "e083980a-c7d4-4f14-a762-a96ed7d90d11",
   "metadata": {},
   "outputs": [
    {
     "name": "stdout",
     "output_type": "stream",
     "text": [
      "✅  Model loaded on mps\n"
     ]
    }
   ],
   "source": [
    "class CRNN(nn.Module):\n",
    "    def __init__(self, n_mels=64, hidden_size=64, output_size=3):\n",
    "        super(CRNN, self).__init__()\n",
    "        self.cnn = nn.Sequential(\n",
    "            nn.Conv2d(1, 16, 3, padding=1),\n",
    "            nn.ReLU(),\n",
    "            nn.MaxPool2d((2, 2)),\n",
    "            nn.Dropout(0.25),\n",
    "\n",
    "            nn.Conv2d(16, 32, 3, padding=1),\n",
    "            nn.ReLU(),\n",
    "            nn.MaxPool2d((2, 2)),\n",
    "            nn.Dropout(0.25)\n",
    "        )\n",
    "\n",
    "        self.gru = nn.GRU(input_size=32 * (n_mels // 4),\n",
    "                          hidden_size=hidden_size,\n",
    "                          batch_first=True,\n",
    "                          bidirectional=True)\n",
    "        self.fc = nn.Linear(hidden_size * 2, output_size)\n",
    "\n",
    "    def forward(self, x):\n",
    "        x = x.unsqueeze(1)\n",
    "        x = self.cnn(x)\n",
    "        x = x.permute(0, 3, 1, 2)\n",
    "        x = x.reshape(x.size(0), x.size(1), -1)\n",
    "        _, h = self.gru(x)\n",
    "        h_concat = torch.cat([h[0], h[1]], dim=1)\n",
    "        return self.fc(h_concat)\n",
    "\n",
    "device = torch.device(\"mps\" if torch.backends.mps.is_available() else \"cpu\")\n",
    "model  = CRNN().to(device)\n",
    "model.load_state_dict(torch.load(MODEL_WEIGHTS, map_location=device))\n",
    "model.eval()\n",
    "print(\"✅  Model loaded on\", device)"
   ]
  },
  {
   "cell_type": "code",
   "execution_count": 7,
   "id": "1ef07ded-2651-463e-9eb7-10f002ae7e18",
   "metadata": {},
   "outputs": [],
   "source": [
    "def load_wav(path, target_sr=SAMPLE_RATE):\n",
    "    \"\"\"Load, down-mix to mono, resample to target_sr.\"\"\"\n",
    "    wav, sr = sf.read(path)\n",
    "    if wav.ndim > 1:\n",
    "        wav = wav.mean(axis=1)\n",
    "    if sr != target_sr:\n",
    "        wav = librosa.resample(wav, orig_sr=sr, target_sr=target_sr)\n",
    "    return wav\n",
    "\n",
    "def pad_or_trim(wav, target_len=TARGET_LEN):\n",
    "    if len(wav) < target_len:\n",
    "        return np.pad(wav, (0, target_len - len(wav)))\n",
    "    return wav[:target_len]\n",
    "\n",
    "def logmel_db(wav, sr=SAMPLE_RATE, n_mels=N_MELS):\n",
    "    mel = librosa.feature.melspectrogram(\n",
    "        y=wav, sr=sr, n_mels=n_mels\n",
    "    )\n",
    "    return librosa.power_to_db(mel, ref=np.max)\n",
    "\n",
    "def normalise_spec(x):\n",
    "    return (x - x.mean()) / (x.std() + 1e-8)\n",
    "\n",
    "def fix_time_dim(x, expect_t=SPEC_EXPECT_T):\n",
    "    \"\"\"Pad or crop time axis to expected length.\"\"\"\n",
    "    if x.shape[1] < expect_t:\n",
    "        pad = expect_t - x.shape[1]\n",
    "        return np.pad(x, ((0,0), (0,pad)))\n",
    "    return x[:, :expect_t]"
   ]
  },
  {
   "cell_type": "code",
   "execution_count": 9,
   "id": "10500d2c-673f-4030-8375-5741c8849b4b",
   "metadata": {},
   "outputs": [
    {
     "name": "stdout",
     "output_type": "stream",
     "text": [
      "🧾  Found 81,220 wav files\n"
     ]
    }
   ],
   "source": [
    "wav_files = sorted(\n",
    "    glob.glob(os.path.join(DATA_ROOT, \"**\", \"*.wav\"), recursive=True)\n",
    ")\n",
    "print(f\"🧾  Found {len(wav_files):,} wav files\")"
   ]
  },
  {
   "cell_type": "code",
   "execution_count": 19,
   "id": "f872d4ae-1fa0-48b4-8355-586f8170900a",
   "metadata": {},
   "outputs": [
    {
     "name": "stdout",
     "output_type": "stream",
     "text": [
      "🎯 Testing on 50 randomly selected files out of 105829 total.\n"
     ]
    }
   ],
   "source": [
    "import random\n",
    "\n",
    "# Set seed for reproducibility\n",
    "random.seed(42)\n",
    "\n",
    "# Recursively find all .wav files\n",
    "all_files = sorted(\n",
    "    glob.glob(os.path.join(DATA_ROOT, \"**\", \"*.wav\"), recursive=True)\n",
    ")\n",
    "\n",
    "# Sample a small subset\n",
    "N = 50\n",
    "wav_files = random.sample(all_files, N)\n",
    "print(f\"🎯 Testing on {N} randomly selected files out of {len(all_files)} total.\")\n"
   ]
  },
  {
   "cell_type": "code",
   "execution_count": 11,
   "id": "df3ded01-fd48-4cd5-ad15-60602e5eca72",
   "metadata": {},
   "outputs": [
    {
     "name": "stderr",
     "output_type": "stream",
     "text": [
      "100%|███████████████████████████████████| 81220/81220 [1:09:54<00:00, 19.36it/s]"
     ]
    },
    {
     "name": "stdout",
     "output_type": "stream",
     "text": [
      "✅  Finished inference on 81220 files\n"
     ]
    },
    {
     "name": "stderr",
     "output_type": "stream",
     "text": [
      "\n"
     ]
    }
   ],
   "source": [
    "results = []\n",
    "\n",
    "for path in tqdm(wav_files):\n",
    "    try:\n",
    "        # 1) waveform ➜ mono16k 5s\n",
    "        wav = pad_or_trim(load_wav(path))\n",
    "\n",
    "        # 2) log-mel spec ➜ normalise ➜ fix time\n",
    "        spec = fix_time_dim(normalise_spec(logmel_db(wav)))\n",
    "\n",
    "        # 3) numpy ➜ torch ➜ model\n",
    "        x = torch.tensor(spec, dtype=torch.float32).unsqueeze(0).to(device)\n",
    "        with torch.no_grad():\n",
    "            pred = model(x).cpu().numpy().squeeze()\n",
    "\n",
    "        # 4) de-normalise labels\n",
    "        pred = pred * LABEL_STD + LABEL_MEAN\n",
    "\n",
    "        results.append({\n",
    "            \"file\": os.path.relpath(path, DATA_ROOT),\n",
    "            \"RT60\": float(pred[0]),\n",
    "            \"DRR\":  float(pred[1]),\n",
    "            \"C50\":  float(pred[2]),\n",
    "        })\n",
    "    except Exception as e:\n",
    "        print(\"❌\", path, e)\n",
    "\n",
    "df = pd.DataFrame(results)\n",
    "print(\"✅  Finished inference on\", len(df), \"files\")"
   ]
  },
  {
   "cell_type": "code",
   "execution_count": 29,
   "id": "85c2b9c0-5dbf-4718-94d9-a8f48c55f6cb",
   "metadata": {},
   "outputs": [
    {
     "name": "stdout",
     "output_type": "stream",
     "text": [
      "📄  Saved predictions to speech_commands_real_predictions.csv\n"
     ]
    },
    {
     "data": {
      "text/html": [
       "<div>\n",
       "<style scoped>\n",
       "    .dataframe tbody tr th:only-of-type {\n",
       "        vertical-align: middle;\n",
       "    }\n",
       "\n",
       "    .dataframe tbody tr th {\n",
       "        vertical-align: top;\n",
       "    }\n",
       "\n",
       "    .dataframe thead th {\n",
       "        text-align: right;\n",
       "    }\n",
       "</style>\n",
       "<table border=\"1\" class=\"dataframe\">\n",
       "  <thead>\n",
       "    <tr style=\"text-align: right;\">\n",
       "      <th></th>\n",
       "      <th>file</th>\n",
       "      <th>RT60</th>\n",
       "      <th>DRR</th>\n",
       "      <th>C50</th>\n",
       "    </tr>\n",
       "  </thead>\n",
       "  <tbody>\n",
       "    <tr>\n",
       "      <th>0</th>\n",
       "      <td>backward/0165e0e8_nohash_0.wav</td>\n",
       "      <td>0.218659</td>\n",
       "      <td>-11.533022</td>\n",
       "      <td>3.235110</td>\n",
       "    </tr>\n",
       "    <tr>\n",
       "      <th>1</th>\n",
       "      <td>backward/017c4098_nohash_0.wav</td>\n",
       "      <td>0.444970</td>\n",
       "      <td>-2.862034</td>\n",
       "      <td>12.507489</td>\n",
       "    </tr>\n",
       "    <tr>\n",
       "      <th>2</th>\n",
       "      <td>backward/017c4098_nohash_1.wav</td>\n",
       "      <td>0.365949</td>\n",
       "      <td>0.489120</td>\n",
       "      <td>16.987470</td>\n",
       "    </tr>\n",
       "    <tr>\n",
       "      <th>3</th>\n",
       "      <td>backward/017c4098_nohash_2.wav</td>\n",
       "      <td>0.586097</td>\n",
       "      <td>-4.535971</td>\n",
       "      <td>10.591297</td>\n",
       "    </tr>\n",
       "    <tr>\n",
       "      <th>4</th>\n",
       "      <td>backward/017c4098_nohash_3.wav</td>\n",
       "      <td>0.330685</td>\n",
       "      <td>4.195175</td>\n",
       "      <td>17.013759</td>\n",
       "    </tr>\n",
       "  </tbody>\n",
       "</table>\n",
       "</div>"
      ],
      "text/plain": [
       "                             file      RT60        DRR        C50\n",
       "0  backward/0165e0e8_nohash_0.wav  0.218659 -11.533022   3.235110\n",
       "1  backward/017c4098_nohash_0.wav  0.444970  -2.862034  12.507489\n",
       "2  backward/017c4098_nohash_1.wav  0.365949   0.489120  16.987470\n",
       "3  backward/017c4098_nohash_2.wav  0.586097  -4.535971  10.591297\n",
       "4  backward/017c4098_nohash_3.wav  0.330685   4.195175  17.013759"
      ]
     },
     "metadata": {},
     "output_type": "display_data"
    },
    {
     "data": {
      "image/png": "[encoded data removed]",
      "text/plain": [
       "<Figure size 1200x400 with 3 Axes>"
      ]
     },
     "metadata": {},
     "output_type": "display_data"
    }
   ],
   "source": [
    "csv_out = \"speech_commands_real_predictions.csv\"\n",
    "df.to_csv(csv_out, index=False)\n",
    "print(\"📄  Saved predictions to\", csv_out)\n",
    "\n",
    "display(df.head())\n",
    "\n",
    "# Quick distribution plot\n",
    "plt.figure(figsize=(12,4))\n",
    "plt.subplot(1,3,1); df[\"RT60\"].hist(); plt.title(\"RT60 (s)\")\n",
    "plt.subplot(1,3,2); df[\"DRR\"].hist();  plt.title(\"DRR (dB)\")\n",
    "plt.subplot(1,3,3); df[\"C50\"].hist();  plt.title(\"C50 (dB)\")\n",
    "plt.tight_layout(); plt.show()"
   ]
  },
  {
   "cell_type": "code",
   "execution_count": 13,
   "id": "0655004e-5334-4421-b002-a1101a198f61",
   "metadata": {},
   "outputs": [
    {
     "name": "stdout",
     "output_type": "stream",
     "text": [
      "📄  Saved predictions to VUT_FIT_Q301_predictions.csv\n"
     ]
    },
    {
     "data": {
      "text/html": [
       "<div>\n",
       "<style scoped>\n",
       "    .dataframe tbody tr th:only-of-type {\n",
       "        vertical-align: middle;\n",
       "    }\n",
       "\n",
       "    .dataframe tbody tr th {\n",
       "        vertical-align: top;\n",
       "    }\n",
       "\n",
       "    .dataframe thead th {\n",
       "        text-align: right;\n",
       "    }\n",
       "</style>\n",
       "<table border=\"1\" class=\"dataframe\">\n",
       "  <thead>\n",
       "    <tr style=\"text-align: right;\">\n",
       "      <th></th>\n",
       "      <th>file</th>\n",
       "      <th>RT60</th>\n",
       "      <th>DRR</th>\n",
       "      <th>C50</th>\n",
       "    </tr>\n",
       "  </thead>\n",
       "  <tbody>\n",
       "    <tr>\n",
       "      <th>0</th>\n",
       "      <td>MicID01/SpkID01_20170910_T/01/english/LibriSpe...</td>\n",
       "      <td>0.562744</td>\n",
       "      <td>-0.663958</td>\n",
       "      <td>10.819309</td>\n",
       "    </tr>\n",
       "    <tr>\n",
       "      <th>1</th>\n",
       "      <td>MicID01/SpkID01_20170910_T/01/english/LibriSpe...</td>\n",
       "      <td>0.873369</td>\n",
       "      <td>-3.321323</td>\n",
       "      <td>7.682154</td>\n",
       "    </tr>\n",
       "    <tr>\n",
       "      <th>2</th>\n",
       "      <td>MicID01/SpkID01_20170910_T/01/english/LibriSpe...</td>\n",
       "      <td>0.783726</td>\n",
       "      <td>0.891724</td>\n",
       "      <td>7.842788</td>\n",
       "    </tr>\n",
       "    <tr>\n",
       "      <th>3</th>\n",
       "      <td>MicID01/SpkID01_20170910_T/01/english/LibriSpe...</td>\n",
       "      <td>0.754932</td>\n",
       "      <td>-7.550230</td>\n",
       "      <td>4.143937</td>\n",
       "    </tr>\n",
       "    <tr>\n",
       "      <th>4</th>\n",
       "      <td>MicID01/SpkID01_20170910_T/01/english/LibriSpe...</td>\n",
       "      <td>0.704523</td>\n",
       "      <td>1.188526</td>\n",
       "      <td>9.027688</td>\n",
       "    </tr>\n",
       "  </tbody>\n",
       "</table>\n",
       "</div>"
      ],
      "text/plain": [
       "                                                file      RT60       DRR  \\\n",
       "0  MicID01/SpkID01_20170910_T/01/english/LibriSpe...  0.562744 -0.663958   \n",
       "1  MicID01/SpkID01_20170910_T/01/english/LibriSpe...  0.873369 -3.321323   \n",
       "2  MicID01/SpkID01_20170910_T/01/english/LibriSpe...  0.783726  0.891724   \n",
       "3  MicID01/SpkID01_20170910_T/01/english/LibriSpe...  0.754932 -7.550230   \n",
       "4  MicID01/SpkID01_20170910_T/01/english/LibriSpe...  0.704523  1.188526   \n",
       "\n",
       "         C50  \n",
       "0  10.819309  \n",
       "1   7.682154  \n",
       "2   7.842788  \n",
       "3   4.143937  \n",
       "4   9.027688  "
      ]
     },
     "metadata": {},
     "output_type": "display_data"
    },
    {
     "data": {
      "image/png": "[encoded data removed]",
      "text/plain": [
       "<Figure size 1200x400 with 3 Axes>"
      ]
     },
     "metadata": {},
     "output_type": "display_data"
    }
   ],
   "source": [
    "csv_out = \"VUT_FIT_Q301_predictions.csv\"\n",
    "df.to_csv(csv_out, index=False)\n",
    "print(\"📄  Saved predictions to\", csv_out)\n",
    "\n",
    "display(df.head())\n",
    "\n",
    "# Quick distribution plot\n",
    "plt.figure(figsize=(12,4))\n",
    "plt.subplot(1,3,1); df[\"RT60\"].hist(); plt.title(\"RT60 (s)\")\n",
    "plt.subplot(1,3,2); df[\"DRR\"].hist();  plt.title(\"DRR (dB)\")\n",
    "plt.subplot(1,3,3); df[\"C50\"].hist();  plt.title(\"C50 (dB)\")\n",
    "plt.tight_layout(); plt.show()"
   ]
  },
  {
   "cell_type": "code",
   "execution_count": null,
   "id": "fa584201-d3bc-4739-9428-0b074835ae7c",
   "metadata": {},
   "outputs": [],
   "source": []
  }
 ],
 "metadata": {
  "kernelspec": {
   "display_name": "Python [conda env:base] *",
   "language": "python",
   "name": "conda-base-py"
  },
  "language_info": {
   "codemirror_mode": {
    "name": "ipython",
    "version": 3
   },
   "file_extension": ".py",
   "mimetype": "text/x-python",
   "name": "python",
   "nbconvert_exporter": "python",
   "pygments_lexer": "ipython3",
   "version": "3.12.2"
  }
 },
 "nbformat": 4,
 "nbformat_minor": 5
}
