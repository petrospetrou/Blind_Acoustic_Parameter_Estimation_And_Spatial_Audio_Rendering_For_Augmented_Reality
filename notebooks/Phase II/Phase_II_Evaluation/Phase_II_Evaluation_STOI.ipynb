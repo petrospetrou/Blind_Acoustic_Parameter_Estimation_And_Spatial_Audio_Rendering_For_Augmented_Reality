{
 "cells": [
  {
   "cell_type": "code",
   "execution_count": 16,
   "id": "120c0d2a-cb88-4095-be5c-e32e450d8299",
   "metadata": {},
   "outputs": [],
   "source": [
    "import os\n",
    "import numpy as np\n",
    "from scipy.io import wavfile\n",
    "from pystoi.stoi import stoi\n",
    "import pandas as pd\n",
    "import matplotlib.pyplot as plt"
   ]
  },
  {
   "cell_type": "code",
   "execution_count": 8,
   "id": "ffbd68b8-2bc2-41aa-944b-86d8c74c60b8",
   "metadata": {},
   "outputs": [],
   "source": [
    "# Set paths to your files\n",
    "dry_dir = '' # Dry Clips Folder Path\n",
    "rendered_dir = '' # Rendered FDN Samples Folder Path\n",
    "output_csv = \"stoi_scores_fdn.csv\""
   ]
  },
  {
   "cell_type": "code",
   "execution_count": 10,
   "id": "f41d423a-e6c9-45f0-b1d6-e8ccf4490662",
   "metadata": {},
   "outputs": [],
   "source": [
    "# Number of samples to evaluate\n",
    "num_samples = 50\n",
    "\n",
    "# Container for STOI scores\n",
    "stoi_scores = []"
   ]
  },
  {
   "cell_type": "code",
   "execution_count": 12,
   "id": "dbd655f6-ba81-4535-b420-7de4cd28a416",
   "metadata": {},
   "outputs": [
    {
     "name": "stdout",
     "output_type": "stream",
     "text": [
      "✔ Sample 000: STOI = 0.926\n",
      "✔ Sample 001: STOI = 0.928\n",
      "✔ Sample 002: STOI = 0.942\n",
      "✔ Sample 003: STOI = 0.919\n",
      "✔ Sample 004: STOI = 0.941\n",
      "✔ Sample 005: STOI = 0.938\n",
      "✔ Sample 006: STOI = 0.930\n",
      "✔ Sample 007: STOI = 0.933\n",
      "✔ Sample 008: STOI = 0.946\n",
      "✔ Sample 009: STOI = 0.944\n",
      "✔ Sample 010: STOI = 0.942\n",
      "✔ Sample 011: STOI = 0.929\n",
      "✔ Sample 012: STOI = 0.933\n",
      "✔ Sample 013: STOI = 0.950\n",
      "✔ Sample 014: STOI = 0.928\n",
      "✔ Sample 015: STOI = 0.958\n",
      "✔ Sample 016: STOI = 0.931\n",
      "✔ Sample 017: STOI = 0.947\n",
      "✔ Sample 018: STOI = 0.939\n",
      "✔ Sample 019: STOI = 0.947\n",
      "✔ Sample 020: STOI = 0.933\n",
      "✔ Sample 021: STOI = 0.935\n",
      "✔ Sample 022: STOI = 0.940\n",
      "✔ Sample 023: STOI = 0.938\n",
      "✔ Sample 024: STOI = 0.932\n",
      "✔ Sample 025: STOI = 0.946\n",
      "✔ Sample 026: STOI = 0.926\n",
      "✔ Sample 027: STOI = 0.933\n",
      "✔ Sample 028: STOI = 0.931\n",
      "✔ Sample 029: STOI = 0.923\n",
      "✔ Sample 030: STOI = 0.928\n",
      "✔ Sample 031: STOI = 0.926\n",
      "✔ Sample 032: STOI = 0.943\n",
      "✔ Sample 033: STOI = 0.930\n",
      "✔ Sample 034: STOI = 0.928\n",
      "✔ Sample 035: STOI = 0.923\n",
      "✔ Sample 036: STOI = 0.924\n",
      "✔ Sample 037: STOI = 0.940\n",
      "✔ Sample 038: STOI = 0.925\n",
      "✔ Sample 039: STOI = 0.935\n",
      "✔ Sample 040: STOI = 0.945\n",
      "✔ Sample 041: STOI = 0.923\n",
      "✔ Sample 042: STOI = 0.935\n",
      "✔ Sample 043: STOI = 0.939\n",
      "✔ Sample 044: STOI = 0.947\n",
      "✔ Sample 045: STOI = 0.940\n",
      "✔ Sample 046: STOI = 0.953\n",
      "✔ Sample 047: STOI = 0.954\n",
      "✔ Sample 048: STOI = 0.923\n",
      "✔ Sample 049: STOI = 0.943\n"
     ]
    }
   ],
   "source": [
    "for i in range(num_samples):\n",
    "    dry_path = os.path.join(dry_dir, f\"sample_{i:03d}.wav\")\n",
    "    fdn_path = os.path.join(rendered_dir, f\"rendered_fdn_{i:03d}_sample_{i:03d}.wav\")\n",
    "\n",
    "    try:\n",
    "        # Load audio files\n",
    "        fs_dry, dry = wavfile.read(dry_path)\n",
    "        fs_fdn, fdn = wavfile.read(fdn_path)\n",
    "\n",
    "        # Check sample rates\n",
    "        if fs_dry != 16000 or fs_fdn != 16000:\n",
    "            print(f\"❌ Sample rate mismatch at index {i}\")\n",
    "            stoi_scores.append((i, None))\n",
    "            continue\n",
    "\n",
    "        # Convert stereo to mono if needed\n",
    "        if fdn.ndim == 2:\n",
    "            fdn = fdn.mean(axis=1)\n",
    "\n",
    "        # Trim to equal length\n",
    "        min_len = min(len(dry), len(fdn))\n",
    "        dry = dry[:min_len]\n",
    "        fdn = fdn[:min_len]\n",
    "\n",
    "        # Compute STOI\n",
    "        score = stoi(dry, fdn, fs_dry, extended=False)\n",
    "        stoi_scores.append((i, score))\n",
    "        print(f\"✔ Sample {i:03d}: STOI = {score:.3f}\")\n",
    "\n",
    "    except Exception as e:\n",
    "        print(f\"❌ Error at sample {i:03d}: {e}\")\n",
    "        stoi_scores.append((i, None))"
   ]
  },
  {
   "cell_type": "code",
   "execution_count": 14,
   "id": "e00d58da-1ad4-4408-8acf-0d350e63f332",
   "metadata": {},
   "outputs": [
    {
     "name": "stdout",
     "output_type": "stream",
     "text": [
      "✔ STOI scores saved to: stoi_scores_fdn.csv\n",
      "✔ Summary statistics appended to CSV.\n"
     ]
    }
   ],
   "source": [
    "# Save sample scores\n",
    "df = pd.DataFrame(stoi_scores, columns=[\"Sample\", \"STOI\"])\n",
    "df.to_csv(output_csv, index=False)\n",
    "print(f\"✔ STOI scores saved to: {output_csv}\")\n",
    "\n",
    "# Add summary statistics\n",
    "summary = {\n",
    "    \"Sample\": [\"Mean\", \"Median\", \"Std Dev\", \"Min\", \"Max\"],\n",
    "    \"STOI\": [\n",
    "        df[\"STOI\"].mean(),\n",
    "        df[\"STOI\"].median(),\n",
    "        df[\"STOI\"].std(),\n",
    "        df[\"STOI\"].min(),\n",
    "        df[\"STOI\"].max()\n",
    "    ]\n",
    "}\n",
    "\n",
    "summary_df = pd.DataFrame(summary)\n",
    "\n",
    "# Append to CSV\n",
    "with open(output_csv, 'a') as f:\n",
    "    f.write(\"\\n\")\n",
    "summary_df.to_csv(output_csv, index=False, mode='a', header=True)\n",
    "print(\"✔ Summary statistics appended to CSV.\")"
   ]
  },
  {
   "cell_type": "code",
   "execution_count": 18,
   "id": "db3c7d27-1ccf-46a1-89f1-1c9f4a9d07dc",
   "metadata": {},
   "outputs": [
    {
     "data": {
      "image/png": "[encoded data removed]",
      "text/plain": [
       "<Figure size 1000x500 with 1 Axes>"
      ]
     },
     "metadata": {},
     "output_type": "display_data"
    }
   ],
   "source": [
    "# Load your STOI scores (if not already loaded)\n",
    "df = pd.read_csv(\"stoi_scores_fdn.csv\")\n",
    "\n",
    "# Filter numeric values (exclude summary rows)\n",
    "df = df[pd.to_numeric(df[\"STOI\"], errors=\"coerce\").notnull()].copy()\n",
    "df[\"STOI\"] = df[\"STOI\"].astype(float)\n",
    "\n",
    "# Plot histogram\n",
    "plt.figure(figsize=(10, 5))\n",
    "plt.hist(df[\"STOI\"], bins=15, color='skyblue', edgecolor='black')\n",
    "plt.title(\"Distribution of STOI Scores (FDN Rendered Audio)\")\n",
    "plt.xlabel(\"STOI Score\")\n",
    "plt.ylabel(\"Number of Samples\")\n",
    "plt.grid(True)\n",
    "plt.tight_layout()\n",
    "plt.show()"
   ]
  },
  {
   "cell_type": "code",
   "execution_count": null,
   "id": "4a36e101-582c-4d04-8c2c-de08dd8fa2ee",
   "metadata": {},
   "outputs": [],
   "source": []
  }
 ],
 "metadata": {
  "kernelspec": {
   "display_name": "Python [conda env:base] *",
   "language": "python",
   "name": "conda-base-py"
  },
  "language_info": {
   "codemirror_mode": {
    "name": "ipython",
    "version": 3
   },
   "file_extension": ".py",
   "mimetype": "text/x-python",
   "name": "python",
   "nbconvert_exporter": "python",
   "pygments_lexer": "ipython3",
   "version": "3.12.2"
  }
 },
 "nbformat": 4,
 "nbformat_minor": 5
}
