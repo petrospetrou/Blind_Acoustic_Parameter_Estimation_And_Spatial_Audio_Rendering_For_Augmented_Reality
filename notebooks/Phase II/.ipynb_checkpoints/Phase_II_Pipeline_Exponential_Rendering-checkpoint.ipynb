{
 "cells": [
  {
   "cell_type": "markdown",
   "id": "829f07fe-94ad-4250-9c3e-5e3d527313f2",
   "metadata": {},
   "source": [
    "## Setup and Imports\n"
   ]
  },
  {
   "cell_type": "code",
   "execution_count": 14,
   "id": "5ff87661-88f3-427c-9b62-70e3919f5ee0",
   "metadata": {},
   "outputs": [
    {
     "name": "stdout",
     "output_type": "stream",
     "text": [
      "✅ Libraries loaded.\n"
     ]
    }
   ],
   "source": [
    "import os\n",
    "import numpy as np\n",
    "import pandas as pd\n",
    "import librosa\n",
    "import soundfile as sf\n",
    "from scipy.signal import fftconvolve\n",
    "from scipy.io import loadmat\n",
    "\n",
    "print(\"✅ Libraries loaded.\")"
   ]
  },
  {
   "cell_type": "markdown",
   "id": "75db1407-c94f-41df-99d8-02221dcd0a81",
   "metadata": {},
   "source": [
    "## File Path Configuration\n"
   ]
  },
  {
   "cell_type": "code",
   "execution_count": 34,
   "id": "3877c8b9-d85e-4b26-bd80-9e0de114a9a5",
   "metadata": {},
   "outputs": [
    {
     "name": "stdout",
     "output_type": "stream",
     "text": [
      "✅ Paths set.\n"
     ]
    }
   ],
   "source": [
    "# Set your file paths\n",
    "dry_audio_dir = \"\"\n",
    "output_dir = \"\"\n",
    "csv_path = \"\" # Estimated Acoustic Parameters CSV File Path\n",
    "hrir_path = \"\" # HRIR Folder Path\n",
    "\n",
    "os.makedirs(output_dir, exist_ok=True)\n",
    "print(\"✅ Paths set.\")"
   ]
  },
  {
   "cell_type": "markdown",
   "id": "5eca6e83-0b57-4df3-969b-bf8fc1e3cfdf",
   "metadata": {},
   "source": [
    "## Loading HRIR Data\n"
   ]
  },
  {
   "cell_type": "code",
   "execution_count": 36,
   "id": "2a5029d0-b252-4683-9941-1e1672a49ed4",
   "metadata": {},
   "outputs": [
    {
     "name": "stdout",
     "output_type": "stream",
     "text": [
      "✅ HRIR loaded for azimuth=0°, elevation=0°\n"
     ]
    }
   ],
   "source": [
    "data = loadmat(hrir_path)\n",
    "hrir_l = data['hrir_l']\n",
    "hrir_r = data['hrir_r']\n",
    "\n",
    "azimuths = np.array([-80.0, -65.0, -55.0, -45.0, -40.0, -35.0, -30.0, -25.0, -20.0, -15.0,\n",
    "                     -10.0,  -5.0,   0.0,   5.0,  10.0,  15.0,  20.0,  25.0,  30.0,  35.0,\n",
    "                      40.0,  45.0,  55.0,  65.0,  80.0])\n",
    "azimuths = np.concatenate([azimuths[::-1] * -1, azimuths])[:50]\n",
    "elevations = np.linspace(-45, 230.625, 25)\n",
    "\n",
    "az_idx = np.argmin(np.abs(azimuths - 0.0))\n",
    "el_idx = np.argmin(np.abs(elevations - 0.0))\n",
    "\n",
    "hrir_left = hrir_l[el_idx, az_idx]\n",
    "hrir_right = hrir_r[el_idx, az_idx]\n",
    "\n",
    "print(\"✅ HRIR loaded for azimuth=0°, elevation=0°\")"
   ]
  },
  {
   "cell_type": "markdown",
   "id": "c967ffdf-dd9f-46b5-a1d1-c2ae4aee0af2",
   "metadata": {},
   "source": [
    "## Function Definition: generate_exponential_rir\n"
   ]
  },
  {
   "cell_type": "code",
   "execution_count": 38,
   "id": "61fa2e00-21d9-4705-81c1-e6fe8eb0dad6",
   "metadata": {},
   "outputs": [],
   "source": [
    "def generate_exponential_rir(rt60, sr, length=1.5):\n",
    "    n_samples = int(length * sr)\n",
    "    t = np.linspace(0, length, n_samples)\n",
    "    rir = np.exp(-6.91 * t / rt60)\n",
    "    return rir / np.max(np.abs(rir))\n",
    "\n",
    "def apply_rt60_reverb(signal, sr, rt60):\n",
    "    rir = generate_exponential_rir(rt60, sr)\n",
    "    return fftconvolve(signal, rir, mode='full')[:len(signal)]\n",
    "\n",
    "def mix_drr(dry, reverb, drr_db):\n",
    "    drr_linear = 10 ** (drr_db / 20)\n",
    "    return dry + (reverb / drr_linear)\n",
    "\n",
    "def render_binaural_rt60_drr(dry_audio, sr, rt60, drr):\n",
    "    reverb = apply_rt60_reverb(dry_audio, sr, rt60)\n",
    "    mixed = mix_drr(dry_audio, reverb, drr)\n",
    "    left = fftconvolve(mixed, hrir_left, mode='full')[:len(mixed)]\n",
    "    right = fftconvolve(mixed, hrir_right, mode='full')[:len(mixed)]\n",
    "    binaural = np.stack([left, right], axis=1)\n",
    "    return binaural / np.max(np.abs(binaural))"
   ]
  },
  {
   "cell_type": "markdown",
   "id": "47dadfb0-7595-4f6c-aab5-dd05cecf849c",
   "metadata": {},
   "source": [
    "## Batch Processing and Rendering\n"
   ]
  },
  {
   "cell_type": "code",
   "execution_count": 42,
   "id": "574268fc-c349-437b-9e01-3c0fb9cf170e",
   "metadata": {},
   "outputs": [
    {
     "name": "stdout",
     "output_type": "stream",
     "text": [
      "✅ Found 50 dry files and 50 parameter rows\n",
      "🎧 [1/50] Processing sample_000.wav | RT60=0.56, DRR=-0.66\n",
      "✅ Saved to /Users/petros/MSc Computer Science/EECS MSc Project 24-25/Approach_1/rendered_batch_outputs/rendered_000_sample_000.wav\n",
      "🎧 [2/50] Processing sample_001.wav | RT60=0.87, DRR=-3.32\n",
      "✅ Saved to /Users/petros/MSc Computer Science/EECS MSc Project 24-25/Approach_1/rendered_batch_outputs/rendered_001_sample_001.wav\n",
      "🎧 [3/50] Processing sample_002.wav | RT60=0.78, DRR=0.89\n",
      "✅ Saved to /Users/petros/MSc Computer Science/EECS MSc Project 24-25/Approach_1/rendered_batch_outputs/rendered_002_sample_002.wav\n",
      "🎧 [4/50] Processing sample_003.wav | RT60=0.75, DRR=-7.55\n",
      "✅ Saved to /Users/petros/MSc Computer Science/EECS MSc Project 24-25/Approach_1/rendered_batch_outputs/rendered_003_sample_003.wav\n",
      "🎧 [5/50] Processing sample_004.wav | RT60=0.70, DRR=1.19\n",
      "✅ Saved to /Users/petros/MSc Computer Science/EECS MSc Project 24-25/Approach_1/rendered_batch_outputs/rendered_004_sample_004.wav\n",
      "🎧 [6/50] Processing sample_005.wav | RT60=0.84, DRR=0.03\n",
      "✅ Saved to /Users/petros/MSc Computer Science/EECS MSc Project 24-25/Approach_1/rendered_batch_outputs/rendered_005_sample_005.wav\n",
      "🎧 [7/50] Processing sample_006.wav | RT60=0.91, DRR=0.34\n",
      "✅ Saved to /Users/petros/MSc Computer Science/EECS MSc Project 24-25/Approach_1/rendered_batch_outputs/rendered_006_sample_006.wav\n",
      "🎧 [8/50] Processing sample_007.wav | RT60=0.94, DRR=0.86\n",
      "✅ Saved to /Users/petros/MSc Computer Science/EECS MSc Project 24-25/Approach_1/rendered_batch_outputs/rendered_007_sample_007.wav\n",
      "🎧 [9/50] Processing sample_008.wav | RT60=0.61, DRR=-0.15\n",
      "✅ Saved to /Users/petros/MSc Computer Science/EECS MSc Project 24-25/Approach_1/rendered_batch_outputs/rendered_008_sample_008.wav\n",
      "🎧 [10/50] Processing sample_009.wav | RT60=0.70, DRR=1.71\n",
      "✅ Saved to /Users/petros/MSc Computer Science/EECS MSc Project 24-25/Approach_1/rendered_batch_outputs/rendered_009_sample_009.wav\n",
      "🎧 [11/50] Processing sample_010.wav | RT60=0.70, DRR=-0.13\n",
      "✅ Saved to /Users/petros/MSc Computer Science/EECS MSc Project 24-25/Approach_1/rendered_batch_outputs/rendered_010_sample_010.wav\n",
      "🎧 [12/50] Processing sample_011.wav | RT60=0.79, DRR=2.70\n",
      "✅ Saved to /Users/petros/MSc Computer Science/EECS MSc Project 24-25/Approach_1/rendered_batch_outputs/rendered_011_sample_011.wav\n",
      "🎧 [13/50] Processing sample_012.wav | RT60=0.75, DRR=-0.65\n",
      "✅ Saved to /Users/petros/MSc Computer Science/EECS MSc Project 24-25/Approach_1/rendered_batch_outputs/rendered_012_sample_012.wav\n",
      "🎧 [14/50] Processing sample_013.wav | RT60=0.55, DRR=3.06\n",
      "✅ Saved to /Users/petros/MSc Computer Science/EECS MSc Project 24-25/Approach_1/rendered_batch_outputs/rendered_013_sample_013.wav\n",
      "🎧 [15/50] Processing sample_014.wav | RT60=0.41, DRR=-8.39\n",
      "✅ Saved to /Users/petros/MSc Computer Science/EECS MSc Project 24-25/Approach_1/rendered_batch_outputs/rendered_014_sample_014.wav\n",
      "🎧 [16/50] Processing sample_015.wav | RT60=0.72, DRR=4.19\n",
      "✅ Saved to /Users/petros/MSc Computer Science/EECS MSc Project 24-25/Approach_1/rendered_batch_outputs/rendered_015_sample_015.wav\n",
      "🎧 [17/50] Processing sample_016.wav | RT60=0.97, DRR=-2.29\n",
      "✅ Saved to /Users/petros/MSc Computer Science/EECS MSc Project 24-25/Approach_1/rendered_batch_outputs/rendered_016_sample_016.wav\n",
      "🎧 [18/50] Processing sample_017.wav | RT60=0.58, DRR=0.89\n",
      "✅ Saved to /Users/petros/MSc Computer Science/EECS MSc Project 24-25/Approach_1/rendered_batch_outputs/rendered_017_sample_017.wav\n",
      "🎧 [19/50] Processing sample_018.wav | RT60=0.64, DRR=0.61\n",
      "✅ Saved to /Users/petros/MSc Computer Science/EECS MSc Project 24-25/Approach_1/rendered_batch_outputs/rendered_018_sample_018.wav\n",
      "🎧 [20/50] Processing sample_019.wav | RT60=0.48, DRR=0.50\n",
      "✅ Saved to /Users/petros/MSc Computer Science/EECS MSc Project 24-25/Approach_1/rendered_batch_outputs/rendered_019_sample_019.wav\n",
      "🎧 [21/50] Processing sample_020.wav | RT60=0.76, DRR=-0.11\n",
      "✅ Saved to /Users/petros/MSc Computer Science/EECS MSc Project 24-25/Approach_1/rendered_batch_outputs/rendered_020_sample_020.wav\n",
      "🎧 [22/50] Processing sample_021.wav | RT60=0.59, DRR=-0.78\n",
      "✅ Saved to /Users/petros/MSc Computer Science/EECS MSc Project 24-25/Approach_1/rendered_batch_outputs/rendered_021_sample_021.wav\n",
      "🎧 [23/50] Processing sample_022.wav | RT60=0.85, DRR=2.54\n",
      "✅ Saved to /Users/petros/MSc Computer Science/EECS MSc Project 24-25/Approach_1/rendered_batch_outputs/rendered_022_sample_022.wav\n",
      "🎧 [24/50] Processing sample_023.wav | RT60=0.56, DRR=1.36\n",
      "✅ Saved to /Users/petros/MSc Computer Science/EECS MSc Project 24-25/Approach_1/rendered_batch_outputs/rendered_023_sample_023.wav\n",
      "🎧 [25/50] Processing sample_024.wav | RT60=0.83, DRR=0.27\n",
      "✅ Saved to /Users/petros/MSc Computer Science/EECS MSc Project 24-25/Approach_1/rendered_batch_outputs/rendered_024_sample_024.wav\n",
      "🎧 [26/50] Processing sample_025.wav | RT60=0.57, DRR=1.19\n",
      "✅ Saved to /Users/petros/MSc Computer Science/EECS MSc Project 24-25/Approach_1/rendered_batch_outputs/rendered_025_sample_025.wav\n",
      "🎧 [27/50] Processing sample_026.wav | RT60=0.88, DRR=0.72\n",
      "✅ Saved to /Users/petros/MSc Computer Science/EECS MSc Project 24-25/Approach_1/rendered_batch_outputs/rendered_026_sample_026.wav\n",
      "🎧 [28/50] Processing sample_027.wav | RT60=0.55, DRR=-5.15\n",
      "✅ Saved to /Users/petros/MSc Computer Science/EECS MSc Project 24-25/Approach_1/rendered_batch_outputs/rendered_027_sample_027.wav\n",
      "🎧 [29/50] Processing sample_028.wav | RT60=0.88, DRR=1.22\n",
      "✅ Saved to /Users/petros/MSc Computer Science/EECS MSc Project 24-25/Approach_1/rendered_batch_outputs/rendered_028_sample_028.wav\n",
      "🎧 [30/50] Processing sample_029.wav | RT60=0.79, DRR=-0.86\n",
      "✅ Saved to /Users/petros/MSc Computer Science/EECS MSc Project 24-25/Approach_1/rendered_batch_outputs/rendered_029_sample_029.wav\n",
      "🎧 [31/50] Processing sample_030.wav | RT60=0.75, DRR=-5.64\n",
      "✅ Saved to /Users/petros/MSc Computer Science/EECS MSc Project 24-25/Approach_1/rendered_batch_outputs/rendered_030_sample_030.wav\n",
      "🎧 [32/50] Processing sample_031.wav | RT60=0.82, DRR=-0.32\n",
      "✅ Saved to /Users/petros/MSc Computer Science/EECS MSc Project 24-25/Approach_1/rendered_batch_outputs/rendered_031_sample_031.wav\n",
      "🎧 [33/50] Processing sample_032.wav | RT60=0.84, DRR=-2.22\n",
      "✅ Saved to /Users/petros/MSc Computer Science/EECS MSc Project 24-25/Approach_1/rendered_batch_outputs/rendered_032_sample_032.wav\n",
      "🎧 [34/50] Processing sample_033.wav | RT60=0.75, DRR=-3.33\n",
      "✅ Saved to /Users/petros/MSc Computer Science/EECS MSc Project 24-25/Approach_1/rendered_batch_outputs/rendered_033_sample_033.wav\n",
      "🎧 [35/50] Processing sample_034.wav | RT60=0.70, DRR=1.54\n",
      "✅ Saved to /Users/petros/MSc Computer Science/EECS MSc Project 24-25/Approach_1/rendered_batch_outputs/rendered_034_sample_034.wav\n",
      "🎧 [36/50] Processing sample_035.wav | RT60=1.05, DRR=-1.94\n",
      "✅ Saved to /Users/petros/MSc Computer Science/EECS MSc Project 24-25/Approach_1/rendered_batch_outputs/rendered_035_sample_035.wav\n",
      "🎧 [37/50] Processing sample_036.wav | RT60=0.70, DRR=-0.07\n",
      "✅ Saved to /Users/petros/MSc Computer Science/EECS MSc Project 24-25/Approach_1/rendered_batch_outputs/rendered_036_sample_036.wav\n",
      "🎧 [38/50] Processing sample_037.wav | RT60=0.52, DRR=-0.74\n",
      "✅ Saved to /Users/petros/MSc Computer Science/EECS MSc Project 24-25/Approach_1/rendered_batch_outputs/rendered_037_sample_037.wav\n",
      "🎧 [39/50] Processing sample_038.wav | RT60=0.89, DRR=-9.37\n",
      "✅ Saved to /Users/petros/MSc Computer Science/EECS MSc Project 24-25/Approach_1/rendered_batch_outputs/rendered_038_sample_038.wav\n",
      "🎧 [40/50] Processing sample_039.wav | RT60=0.73, DRR=-1.21\n",
      "✅ Saved to /Users/petros/MSc Computer Science/EECS MSc Project 24-25/Approach_1/rendered_batch_outputs/rendered_039_sample_039.wav\n",
      "🎧 [41/50] Processing sample_040.wav | RT60=0.60, DRR=-0.89\n",
      "✅ Saved to /Users/petros/MSc Computer Science/EECS MSc Project 24-25/Approach_1/rendered_batch_outputs/rendered_040_sample_040.wav\n",
      "🎧 [42/50] Processing sample_041.wav | RT60=0.72, DRR=-8.65\n",
      "✅ Saved to /Users/petros/MSc Computer Science/EECS MSc Project 24-25/Approach_1/rendered_batch_outputs/rendered_041_sample_041.wav\n",
      "🎧 [43/50] Processing sample_042.wav | RT60=0.68, DRR=-1.79\n",
      "✅ Saved to /Users/petros/MSc Computer Science/EECS MSc Project 24-25/Approach_1/rendered_batch_outputs/rendered_042_sample_042.wav\n",
      "🎧 [44/50] Processing sample_043.wav | RT60=0.72, DRR=-1.37\n",
      "✅ Saved to /Users/petros/MSc Computer Science/EECS MSc Project 24-25/Approach_1/rendered_batch_outputs/rendered_043_sample_043.wav\n",
      "🎧 [45/50] Processing sample_044.wav | RT60=0.59, DRR=2.94\n",
      "✅ Saved to /Users/petros/MSc Computer Science/EECS MSc Project 24-25/Approach_1/rendered_batch_outputs/rendered_044_sample_044.wav\n",
      "🎧 [46/50] Processing sample_045.wav | RT60=0.88, DRR=-5.03\n",
      "✅ Saved to /Users/petros/MSc Computer Science/EECS MSc Project 24-25/Approach_1/rendered_batch_outputs/rendered_045_sample_045.wav\n",
      "🎧 [47/50] Processing sample_046.wav | RT60=0.68, DRR=2.57\n",
      "✅ Saved to /Users/petros/MSc Computer Science/EECS MSc Project 24-25/Approach_1/rendered_batch_outputs/rendered_046_sample_046.wav\n",
      "🎧 [48/50] Processing sample_047.wav | RT60=0.71, DRR=2.02\n",
      "✅ Saved to /Users/petros/MSc Computer Science/EECS MSc Project 24-25/Approach_1/rendered_batch_outputs/rendered_047_sample_047.wav\n",
      "🎧 [49/50] Processing sample_048.wav | RT60=1.00, DRR=-4.56\n",
      "✅ Saved to /Users/petros/MSc Computer Science/EECS MSc Project 24-25/Approach_1/rendered_batch_outputs/rendered_048_sample_048.wav\n",
      "🎧 [50/50] Processing sample_049.wav | RT60=0.65, DRR=0.97\n",
      "✅ Saved to /Users/petros/MSc Computer Science/EECS MSc Project 24-25/Approach_1/rendered_batch_outputs/rendered_049_sample_049.wav\n"
     ]
    }
   ],
   "source": [
    "df = pd.read_csv(csv_path)\n",
    "\n",
    "# Select top 50 predicted rows (or fewer if you want)\n",
    "df = df.head(50)\n",
    "\n",
    "dry_files = sorted([f for f in os.listdir(dry_audio_dir) if f.endswith(\".wav\")])\n",
    "dry_files = dry_files[:len(df)]  # Match number of rows exactly\n",
    "\n",
    "print(f\"✅ Found {len(dry_files)} dry files and {len(df)} parameter rows\")\n",
    "\n",
    "for i, filename in enumerate(dry_files):\n",
    "    dry_path = os.path.join(dry_audio_dir, filename)\n",
    "    dry_audio, sr = librosa.load(dry_path, sr=16000)\n",
    "\n",
    "    row = df.iloc[i]\n",
    "    rt60 = row['RT60']\n",
    "    drr = row['DRR']\n",
    "    c50 = row['C50']  # Not used\n",
    "\n",
    "    print(f\"🎧 [{i+1}/{len(dry_files)}] Processing {filename} | RT60={rt60:.2f}, DRR={drr:.2f}\")\n",
    "    rendered = render_binaural_rt60_drr(dry_audio, sr, rt60, drr)\n",
    "\n",
    "    out_path = os.path.join(output_dir, f\"rendered_{i:03d}_{filename}\")\n",
    "    sf.write(out_path, rendered, sr)\n",
    "    print(f\"✅ Saved to {out_path}\")"
   ]
  },
  {
   "cell_type": "code",
   "execution_count": null,
   "id": "fcc4bcf1-67eb-48d2-b17f-530631b0a48f",
   "metadata": {},
   "outputs": [],
   "source": []
  }
 ],
 "metadata": {
  "kernelspec": {
   "display_name": "Python [conda env:base] *",
   "language": "python",
   "name": "conda-base-py"
  },
  "language_info": {
   "codemirror_mode": {
    "name": "ipython",
    "version": 3
   },
   "file_extension": ".py",
   "mimetype": "text/x-python",
   "name": "python",
   "nbconvert_exporter": "python",
   "pygments_lexer": "ipython3",
   "version": "3.12.2"
  }
 },
 "nbformat": 4,
 "nbformat_minor": 5
}
