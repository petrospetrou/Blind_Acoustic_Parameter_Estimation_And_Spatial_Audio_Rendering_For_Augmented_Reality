{
 "cells": [
  {
   "cell_type": "markdown",
   "id": "a9e2edef-70b0-4751-9ef5-c1adf7948343",
   "metadata": {},
   "source": [
    "## Setup and Imports\n"
   ]
  },
  {
   "cell_type": "code",
   "execution_count": 13,
   "id": "a2fe53fc-91a4-4b99-822a-f8a8cae2e047",
   "metadata": {},
   "outputs": [],
   "source": [
    "import os\n",
    "import numpy as np\n",
    "import pandas as pd\n",
    "import librosa\n",
    "import soundfile as sf\n",
    "from scipy.signal import fftconvolve\n",
    "from scipy.io import loadmat"
   ]
  },
  {
   "cell_type": "markdown",
   "id": "4113ba01-87be-4407-900a-c2b1e7957498",
   "metadata": {},
   "source": [
    "## Folder Structure Setup"
   ]
  },
  {
   "cell_type": "code",
   "execution_count": 3,
   "id": "733382dc-3b08-4da5-93e3-024531eac364",
   "metadata": {},
   "outputs": [
    {
     "name": "stdout",
     "output_type": "stream",
     "text": [
      "✅ Paths set.\n"
     ]
    }
   ],
   "source": [
    "# Using your existing folders\n",
    "dry_audio_dir = \"\"\n",
    "output_dir = \"\"\n",
    "csv_path = \"\" # Estimated Acoustic Parameters CSV File Path\n",
    "hrir_path = \"\" # HRIR Folder Path\n",
    "\n",
    "os.makedirs(output_dir, exist_ok=True)\n",
    "print(\"✅ Paths set.\")"
   ]
  },
  {
   "cell_type": "markdown",
   "id": "768bbde4-b68d-452a-bf59-9d2559f84bbd",
   "metadata": {},
   "source": [
    "## Loading HRIR Data"
   ]
  },
  {
   "cell_type": "code",
   "execution_count": 5,
   "id": "6569f4d5-6728-499c-afd2-688e2e74bd3f",
   "metadata": {},
   "outputs": [
    {
     "name": "stdout",
     "output_type": "stream",
     "text": [
      "✅ HRIR loaded for azimuth=0°, elevation=0°\n"
     ]
    }
   ],
   "source": [
    "data = loadmat(hrir_path)\n",
    "hrir_l = data['hrir_l']\n",
    "hrir_r = data['hrir_r']\n",
    "\n",
    "azimuths = np.array([-80.0, -65.0, -55.0, -45.0, -40.0, -35.0, -30.0, -25.0, -20.0, -15.0,\n",
    "                     -10.0,  -5.0,   0.0,   5.0,  10.0,  15.0,  20.0,  25.0,  30.0,  35.0,\n",
    "                      40.0,  45.0,  55.0,  65.0,  80.0])\n",
    "azimuths = np.concatenate([azimuths[::-1] * -1, azimuths])[:50]\n",
    "elevations = np.linspace(-45, 230.625, 25)\n",
    "\n",
    "az_idx = np.argmin(np.abs(azimuths - 0.0))\n",
    "el_idx = np.argmin(np.abs(elevations - 0.0))\n",
    "\n",
    "hrir_left = hrir_l[el_idx, az_idx]\n",
    "hrir_right = hrir_r[el_idx, az_idx]\n",
    "\n",
    "print(\"✅ HRIR loaded for azimuth=0°, elevation=0°\")"
   ]
  },
  {
   "cell_type": "markdown",
   "id": "58a2e1ad-505a-4b69-883c-109f7f27211e",
   "metadata": {},
   "source": [
    "## Function Definition: fdn_reverb"
   ]
  },
  {
   "cell_type": "code",
   "execution_count": 7,
   "id": "8a7289cd-63e8-4734-8cdb-712c69858625",
   "metadata": {},
   "outputs": [],
   "source": [
    "def fdn_reverb(signal, sr, rt60, num_delays=4):\n",
    "    delays = [149, 211, 263, 293][:num_delays]  # Prime numbers\n",
    "    gains = [10 ** (-3 * d / (sr * rt60)) for d in delays]\n",
    "    buffers = [np.zeros(d) for d in delays]\n",
    "    out = np.zeros_like(signal)\n",
    "\n",
    "    for n in range(len(signal)):\n",
    "        sample = signal[n]\n",
    "        feedback = sum(buffers[i][0] * gains[i] for i in range(num_delays)) / num_delays\n",
    "        out[n] = sample + feedback\n",
    "        for i in range(num_delays):\n",
    "            buffers[i] = np.roll(buffers[i], -1)\n",
    "            buffers[i][-1] = sample + feedback\n",
    "\n",
    "    return out / np.max(np.abs(out))  # Normalize"
   ]
  },
  {
   "cell_type": "markdown",
   "id": "3b8ea7b0-83a0-4094-833e-66d52f81c181",
   "metadata": {},
   "source": [
    "## Function Definition: render_binaural_fdn"
   ]
  },
  {
   "cell_type": "code",
   "execution_count": 9,
   "id": "ee9d9cac-f741-4075-b1c5-2478153b39f7",
   "metadata": {},
   "outputs": [],
   "source": [
    "def render_binaural_fdn(dry_audio, sr, rt60, drr):\n",
    "    wet = fdn_reverb(dry_audio, sr, rt60)\n",
    "    drr_linear = 10 ** (drr / 20)\n",
    "    mixed = dry_audio + (wet / drr_linear)\n",
    "\n",
    "    left = fftconvolve(mixed, hrir_left, mode='full')[:len(mixed)]\n",
    "    right = fftconvolve(mixed, hrir_right, mode='full')[:len(mixed)]\n",
    "    binaural = np.stack([left, right], axis=1)\n",
    "\n",
    "    return binaural / np.max(np.abs(binaural))"
   ]
  },
  {
   "cell_type": "markdown",
   "id": "5f5d129a-dfe9-4a38-8f86-e599a5d59e2e",
   "metadata": {},
   "source": [
    "## Batch Processing and Rendering"
   ]
  },
  {
   "cell_type": "code",
   "execution_count": 11,
   "id": "c6d11153-b191-4bbc-9032-b91539578483",
   "metadata": {},
   "outputs": [
    {
     "name": "stdout",
     "output_type": "stream",
     "text": [
      "✅ Found 50 dry files and 50 parameter rows\n",
      "🎧 [1/50] Processing sample_000.wav | RT60=0.56, DRR=-0.66\n",
      "✅ Saved to /Users/petros/MSc Computer Science/EECS MSc Project 24-25/Approach_1/rendered_batch_outputs_fdn/rendered_fdn_000_sample_000.wav\n",
      "🎧 [2/50] Processing sample_001.wav | RT60=0.87, DRR=-3.32\n",
      "✅ Saved to /Users/petros/MSc Computer Science/EECS MSc Project 24-25/Approach_1/rendered_batch_outputs_fdn/rendered_fdn_001_sample_001.wav\n",
      "🎧 [3/50] Processing sample_002.wav | RT60=0.78, DRR=0.89\n",
      "✅ Saved to /Users/petros/MSc Computer Science/EECS MSc Project 24-25/Approach_1/rendered_batch_outputs_fdn/rendered_fdn_002_sample_002.wav\n",
      "🎧 [4/50] Processing sample_003.wav | RT60=0.75, DRR=-7.55\n",
      "✅ Saved to /Users/petros/MSc Computer Science/EECS MSc Project 24-25/Approach_1/rendered_batch_outputs_fdn/rendered_fdn_003_sample_003.wav\n",
      "🎧 [5/50] Processing sample_004.wav | RT60=0.70, DRR=1.19\n",
      "✅ Saved to /Users/petros/MSc Computer Science/EECS MSc Project 24-25/Approach_1/rendered_batch_outputs_fdn/rendered_fdn_004_sample_004.wav\n",
      "🎧 [6/50] Processing sample_005.wav | RT60=0.84, DRR=0.03\n",
      "✅ Saved to /Users/petros/MSc Computer Science/EECS MSc Project 24-25/Approach_1/rendered_batch_outputs_fdn/rendered_fdn_005_sample_005.wav\n",
      "🎧 [7/50] Processing sample_006.wav | RT60=0.91, DRR=0.34\n",
      "✅ Saved to /Users/petros/MSc Computer Science/EECS MSc Project 24-25/Approach_1/rendered_batch_outputs_fdn/rendered_fdn_006_sample_006.wav\n",
      "🎧 [8/50] Processing sample_007.wav | RT60=0.94, DRR=0.86\n",
      "✅ Saved to /Users/petros/MSc Computer Science/EECS MSc Project 24-25/Approach_1/rendered_batch_outputs_fdn/rendered_fdn_007_sample_007.wav\n",
      "🎧 [9/50] Processing sample_008.wav | RT60=0.61, DRR=-0.15\n",
      "✅ Saved to /Users/petros/MSc Computer Science/EECS MSc Project 24-25/Approach_1/rendered_batch_outputs_fdn/rendered_fdn_008_sample_008.wav\n",
      "🎧 [10/50] Processing sample_009.wav | RT60=0.70, DRR=1.71\n",
      "✅ Saved to /Users/petros/MSc Computer Science/EECS MSc Project 24-25/Approach_1/rendered_batch_outputs_fdn/rendered_fdn_009_sample_009.wav\n",
      "🎧 [11/50] Processing sample_010.wav | RT60=0.70, DRR=-0.13\n",
      "✅ Saved to /Users/petros/MSc Computer Science/EECS MSc Project 24-25/Approach_1/rendered_batch_outputs_fdn/rendered_fdn_010_sample_010.wav\n",
      "🎧 [12/50] Processing sample_011.wav | RT60=0.79, DRR=2.70\n",
      "✅ Saved to /Users/petros/MSc Computer Science/EECS MSc Project 24-25/Approach_1/rendered_batch_outputs_fdn/rendered_fdn_011_sample_011.wav\n",
      "🎧 [13/50] Processing sample_012.wav | RT60=0.75, DRR=-0.65\n",
      "✅ Saved to /Users/petros/MSc Computer Science/EECS MSc Project 24-25/Approach_1/rendered_batch_outputs_fdn/rendered_fdn_012_sample_012.wav\n",
      "🎧 [14/50] Processing sample_013.wav | RT60=0.55, DRR=3.06\n",
      "✅ Saved to /Users/petros/MSc Computer Science/EECS MSc Project 24-25/Approach_1/rendered_batch_outputs_fdn/rendered_fdn_013_sample_013.wav\n",
      "🎧 [15/50] Processing sample_014.wav | RT60=0.41, DRR=-8.39\n",
      "✅ Saved to /Users/petros/MSc Computer Science/EECS MSc Project 24-25/Approach_1/rendered_batch_outputs_fdn/rendered_fdn_014_sample_014.wav\n",
      "🎧 [16/50] Processing sample_015.wav | RT60=0.72, DRR=4.19\n",
      "✅ Saved to /Users/petros/MSc Computer Science/EECS MSc Project 24-25/Approach_1/rendered_batch_outputs_fdn/rendered_fdn_015_sample_015.wav\n",
      "🎧 [17/50] Processing sample_016.wav | RT60=0.97, DRR=-2.29\n",
      "✅ Saved to /Users/petros/MSc Computer Science/EECS MSc Project 24-25/Approach_1/rendered_batch_outputs_fdn/rendered_fdn_016_sample_016.wav\n",
      "🎧 [18/50] Processing sample_017.wav | RT60=0.58, DRR=0.89\n",
      "✅ Saved to /Users/petros/MSc Computer Science/EECS MSc Project 24-25/Approach_1/rendered_batch_outputs_fdn/rendered_fdn_017_sample_017.wav\n",
      "🎧 [19/50] Processing sample_018.wav | RT60=0.64, DRR=0.61\n",
      "✅ Saved to /Users/petros/MSc Computer Science/EECS MSc Project 24-25/Approach_1/rendered_batch_outputs_fdn/rendered_fdn_018_sample_018.wav\n",
      "🎧 [20/50] Processing sample_019.wav | RT60=0.48, DRR=0.50\n",
      "✅ Saved to /Users/petros/MSc Computer Science/EECS MSc Project 24-25/Approach_1/rendered_batch_outputs_fdn/rendered_fdn_019_sample_019.wav\n",
      "🎧 [21/50] Processing sample_020.wav | RT60=0.76, DRR=-0.11\n",
      "✅ Saved to /Users/petros/MSc Computer Science/EECS MSc Project 24-25/Approach_1/rendered_batch_outputs_fdn/rendered_fdn_020_sample_020.wav\n",
      "🎧 [22/50] Processing sample_021.wav | RT60=0.59, DRR=-0.78\n",
      "✅ Saved to /Users/petros/MSc Computer Science/EECS MSc Project 24-25/Approach_1/rendered_batch_outputs_fdn/rendered_fdn_021_sample_021.wav\n",
      "🎧 [23/50] Processing sample_022.wav | RT60=0.85, DRR=2.54\n",
      "✅ Saved to /Users/petros/MSc Computer Science/EECS MSc Project 24-25/Approach_1/rendered_batch_outputs_fdn/rendered_fdn_022_sample_022.wav\n",
      "🎧 [24/50] Processing sample_023.wav | RT60=0.56, DRR=1.36\n",
      "✅ Saved to /Users/petros/MSc Computer Science/EECS MSc Project 24-25/Approach_1/rendered_batch_outputs_fdn/rendered_fdn_023_sample_023.wav\n",
      "🎧 [25/50] Processing sample_024.wav | RT60=0.83, DRR=0.27\n",
      "✅ Saved to /Users/petros/MSc Computer Science/EECS MSc Project 24-25/Approach_1/rendered_batch_outputs_fdn/rendered_fdn_024_sample_024.wav\n",
      "🎧 [26/50] Processing sample_025.wav | RT60=0.57, DRR=1.19\n",
      "✅ Saved to /Users/petros/MSc Computer Science/EECS MSc Project 24-25/Approach_1/rendered_batch_outputs_fdn/rendered_fdn_025_sample_025.wav\n",
      "🎧 [27/50] Processing sample_026.wav | RT60=0.88, DRR=0.72\n",
      "✅ Saved to /Users/petros/MSc Computer Science/EECS MSc Project 24-25/Approach_1/rendered_batch_outputs_fdn/rendered_fdn_026_sample_026.wav\n",
      "🎧 [28/50] Processing sample_027.wav | RT60=0.55, DRR=-5.15\n",
      "✅ Saved to /Users/petros/MSc Computer Science/EECS MSc Project 24-25/Approach_1/rendered_batch_outputs_fdn/rendered_fdn_027_sample_027.wav\n",
      "🎧 [29/50] Processing sample_028.wav | RT60=0.88, DRR=1.22\n",
      "✅ Saved to /Users/petros/MSc Computer Science/EECS MSc Project 24-25/Approach_1/rendered_batch_outputs_fdn/rendered_fdn_028_sample_028.wav\n",
      "🎧 [30/50] Processing sample_029.wav | RT60=0.79, DRR=-0.86\n",
      "✅ Saved to /Users/petros/MSc Computer Science/EECS MSc Project 24-25/Approach_1/rendered_batch_outputs_fdn/rendered_fdn_029_sample_029.wav\n",
      "🎧 [31/50] Processing sample_030.wav | RT60=0.75, DRR=-5.64\n",
      "✅ Saved to /Users/petros/MSc Computer Science/EECS MSc Project 24-25/Approach_1/rendered_batch_outputs_fdn/rendered_fdn_030_sample_030.wav\n",
      "🎧 [32/50] Processing sample_031.wav | RT60=0.82, DRR=-0.32\n",
      "✅ Saved to /Users/petros/MSc Computer Science/EECS MSc Project 24-25/Approach_1/rendered_batch_outputs_fdn/rendered_fdn_031_sample_031.wav\n",
      "🎧 [33/50] Processing sample_032.wav | RT60=0.84, DRR=-2.22\n",
      "✅ Saved to /Users/petros/MSc Computer Science/EECS MSc Project 24-25/Approach_1/rendered_batch_outputs_fdn/rendered_fdn_032_sample_032.wav\n",
      "🎧 [34/50] Processing sample_033.wav | RT60=0.75, DRR=-3.33\n",
      "✅ Saved to /Users/petros/MSc Computer Science/EECS MSc Project 24-25/Approach_1/rendered_batch_outputs_fdn/rendered_fdn_033_sample_033.wav\n",
      "🎧 [35/50] Processing sample_034.wav | RT60=0.70, DRR=1.54\n",
      "✅ Saved to /Users/petros/MSc Computer Science/EECS MSc Project 24-25/Approach_1/rendered_batch_outputs_fdn/rendered_fdn_034_sample_034.wav\n",
      "🎧 [36/50] Processing sample_035.wav | RT60=1.05, DRR=-1.94\n",
      "✅ Saved to /Users/petros/MSc Computer Science/EECS MSc Project 24-25/Approach_1/rendered_batch_outputs_fdn/rendered_fdn_035_sample_035.wav\n",
      "🎧 [37/50] Processing sample_036.wav | RT60=0.70, DRR=-0.07\n",
      "✅ Saved to /Users/petros/MSc Computer Science/EECS MSc Project 24-25/Approach_1/rendered_batch_outputs_fdn/rendered_fdn_036_sample_036.wav\n",
      "🎧 [38/50] Processing sample_037.wav | RT60=0.52, DRR=-0.74\n",
      "✅ Saved to /Users/petros/MSc Computer Science/EECS MSc Project 24-25/Approach_1/rendered_batch_outputs_fdn/rendered_fdn_037_sample_037.wav\n",
      "🎧 [39/50] Processing sample_038.wav | RT60=0.89, DRR=-9.37\n",
      "✅ Saved to /Users/petros/MSc Computer Science/EECS MSc Project 24-25/Approach_1/rendered_batch_outputs_fdn/rendered_fdn_038_sample_038.wav\n",
      "🎧 [40/50] Processing sample_039.wav | RT60=0.73, DRR=-1.21\n",
      "✅ Saved to /Users/petros/MSc Computer Science/EECS MSc Project 24-25/Approach_1/rendered_batch_outputs_fdn/rendered_fdn_039_sample_039.wav\n",
      "🎧 [41/50] Processing sample_040.wav | RT60=0.60, DRR=-0.89\n",
      "✅ Saved to /Users/petros/MSc Computer Science/EECS MSc Project 24-25/Approach_1/rendered_batch_outputs_fdn/rendered_fdn_040_sample_040.wav\n",
      "🎧 [42/50] Processing sample_041.wav | RT60=0.72, DRR=-8.65\n",
      "✅ Saved to /Users/petros/MSc Computer Science/EECS MSc Project 24-25/Approach_1/rendered_batch_outputs_fdn/rendered_fdn_041_sample_041.wav\n",
      "🎧 [43/50] Processing sample_042.wav | RT60=0.68, DRR=-1.79\n",
      "✅ Saved to /Users/petros/MSc Computer Science/EECS MSc Project 24-25/Approach_1/rendered_batch_outputs_fdn/rendered_fdn_042_sample_042.wav\n",
      "🎧 [44/50] Processing sample_043.wav | RT60=0.72, DRR=-1.37\n",
      "✅ Saved to /Users/petros/MSc Computer Science/EECS MSc Project 24-25/Approach_1/rendered_batch_outputs_fdn/rendered_fdn_043_sample_043.wav\n",
      "🎧 [45/50] Processing sample_044.wav | RT60=0.59, DRR=2.94\n",
      "✅ Saved to /Users/petros/MSc Computer Science/EECS MSc Project 24-25/Approach_1/rendered_batch_outputs_fdn/rendered_fdn_044_sample_044.wav\n",
      "🎧 [46/50] Processing sample_045.wav | RT60=0.88, DRR=-5.03\n",
      "✅ Saved to /Users/petros/MSc Computer Science/EECS MSc Project 24-25/Approach_1/rendered_batch_outputs_fdn/rendered_fdn_045_sample_045.wav\n",
      "🎧 [47/50] Processing sample_046.wav | RT60=0.68, DRR=2.57\n",
      "✅ Saved to /Users/petros/MSc Computer Science/EECS MSc Project 24-25/Approach_1/rendered_batch_outputs_fdn/rendered_fdn_046_sample_046.wav\n",
      "🎧 [48/50] Processing sample_047.wav | RT60=0.71, DRR=2.02\n",
      "✅ Saved to /Users/petros/MSc Computer Science/EECS MSc Project 24-25/Approach_1/rendered_batch_outputs_fdn/rendered_fdn_047_sample_047.wav\n",
      "🎧 [49/50] Processing sample_048.wav | RT60=1.00, DRR=-4.56\n",
      "✅ Saved to /Users/petros/MSc Computer Science/EECS MSc Project 24-25/Approach_1/rendered_batch_outputs_fdn/rendered_fdn_048_sample_048.wav\n",
      "🎧 [50/50] Processing sample_049.wav | RT60=0.65, DRR=0.97\n",
      "✅ Saved to /Users/petros/MSc Computer Science/EECS MSc Project 24-25/Approach_1/rendered_batch_outputs_fdn/rendered_fdn_049_sample_049.wav\n"
     ]
    }
   ],
   "source": [
    "df = pd.read_csv(csv_path).head(50)\n",
    "dry_files = sorted([f for f in os.listdir(dry_audio_dir) if f.endswith(\".wav\")])[:len(df)]\n",
    "\n",
    "print(f\"✅ Found {len(dry_files)} dry files and {len(df)} parameter rows\")\n",
    "\n",
    "for i, filename in enumerate(dry_files):\n",
    "    dry_path = os.path.join(dry_audio_dir, filename)\n",
    "    dry_audio, sr = librosa.load(dry_path, sr=16000)\n",
    "\n",
    "    row = df.iloc[i]\n",
    "    rt60 = row['RT60']\n",
    "    drr = row['DRR']\n",
    "    c50 = row['C50']  # Not used\n",
    "\n",
    "    print(f\"🎧 [{i+1}/{len(dry_files)}] Processing {filename} | RT60={rt60:.2f}, DRR={drr:.2f}\")\n",
    "    rendered = render_binaural_fdn(dry_audio, sr, rt60, drr)\n",
    "\n",
    "    out_path = os.path.join(output_dir, f\"rendered_fdn_{i:03d}_{filename}\")\n",
    "    sf.write(out_path, rendered, sr)\n",
    "    print(f\"✅ Saved to {out_path}\")"
   ]
  },
  {
   "cell_type": "code",
   "execution_count": null,
   "id": "3a2eea9d-2f9d-4008-843e-4d9547ad8544",
   "metadata": {},
   "outputs": [],
   "source": []
  }
 ],
 "metadata": {
  "kernelspec": {
   "display_name": "Python [conda env:base] *",
   "language": "python",
   "name": "conda-base-py"
  },
  "language_info": {
   "codemirror_mode": {
    "name": "ipython",
    "version": 3
   },
   "file_extension": ".py",
   "mimetype": "text/x-python",
   "name": "python",
   "nbconvert_exporter": "python",
   "pygments_lexer": "ipython3",
   "version": "3.12.2"
  }
 },
 "nbformat": 4,
 "nbformat_minor": 5
}
