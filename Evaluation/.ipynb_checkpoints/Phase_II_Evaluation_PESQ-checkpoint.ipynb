{
 "cells": [
  {
   "cell_type": "code",
   "execution_count": 1,
   "id": "ca238b60-b0dc-4492-be3d-81dc686daaa5",
   "metadata": {},
   "outputs": [],
   "source": [
    "import os\n",
    "import numpy as np\n",
    "from pesq import pesq\n",
    "from scipy.io import wavfile\n",
    "import pandas as pd\n",
    "import matplotlib.pyplot as plt"
   ]
  },
  {
   "cell_type": "code",
   "execution_count": 2,
   "id": "6e4cb867-3b81-4b90-9d2f-5005a3d0e33d",
   "metadata": {},
   "outputs": [],
   "source": [
    "# Set paths to your files\n",
    "dry_dir = '/Users/petros/MSc Computer Science/EECS MSc Project 24-25/Approach_1/dry_speech'\n",
    "rendered_dir = '/Users/petros/MSc Computer Science/EECS MSc Project 24-25/Approach_1/rendered_batch_outputs'\n",
    "output_csv = \"pesq_scores_fdn.csv\""
   ]
  },
  {
   "cell_type": "code",
   "execution_count": 3,
   "id": "ac198043-82a9-4270-aaa5-203ac0c932d0",
   "metadata": {},
   "outputs": [],
   "source": [
    "# Number of samples\n",
    "num_samples = 50\n",
    "\n",
    "# Container for PESQ scores\n",
    "pesq_scores = []"
   ]
  },
  {
   "cell_type": "code",
   "execution_count": 7,
   "id": "34edf161-12c2-4586-8f19-d842f539ed83",
   "metadata": {},
   "outputs": [
    {
     "name": "stdout",
     "output_type": "stream",
     "text": [
      "✔ Sample 000: PESQ = 4.146\n",
      "✔ Sample 001: PESQ = 4.178\n",
      "✔ Sample 002: PESQ = 1.849\n",
      "✔ Sample 003: PESQ = 1.758\n",
      "✔ Sample 004: PESQ = 1.971\n",
      "✔ Sample 005: PESQ = 1.930\n",
      "✔ Sample 006: PESQ = 2.161\n",
      "✔ Sample 007: PESQ = 4.256\n",
      "✔ Sample 008: PESQ = 2.012\n",
      "✔ Sample 009: PESQ = 1.865\n",
      "✔ Sample 010: PESQ = 4.025\n",
      "✔ Sample 011: PESQ = 2.118\n",
      "✔ Sample 012: PESQ = 4.127\n",
      "✔ Sample 013: PESQ = 1.954\n",
      "✔ Sample 014: PESQ = 4.287\n",
      "✔ Sample 015: PESQ = 2.296\n",
      "✔ Sample 016: PESQ = 4.124\n",
      "✔ Sample 017: PESQ = 1.889\n",
      "✔ Sample 018: PESQ = 1.755\n",
      "✔ Sample 019: PESQ = 4.344\n",
      "✔ Sample 020: PESQ = 4.142\n",
      "✔ Sample 021: PESQ = 4.269\n",
      "✔ Sample 022: PESQ = 1.819\n",
      "✔ Sample 023: PESQ = 4.096\n",
      "✔ Sample 024: PESQ = 4.186\n",
      "✔ Sample 025: PESQ = 2.114\n",
      "✔ Sample 026: PESQ = 1.909\n",
      "✔ Sample 027: PESQ = 4.226\n",
      "✔ Sample 028: PESQ = 4.126\n",
      "✔ Sample 029: PESQ = 4.082\n",
      "✔ Sample 030: PESQ = 4.170\n",
      "✔ Sample 031: PESQ = 4.115\n",
      "✔ Sample 032: PESQ = 4.057\n",
      "✔ Sample 033: PESQ = 1.725\n",
      "✔ Sample 034: PESQ = 4.246\n",
      "✔ Sample 035: PESQ = 4.239\n",
      "✔ Sample 036: PESQ = 2.267\n",
      "✔ Sample 037: PESQ = 4.224\n",
      "✔ Sample 038: PESQ = 1.731\n",
      "✔ Sample 039: PESQ = 1.895\n",
      "✔ Sample 040: PESQ = 1.940\n",
      "✔ Sample 041: PESQ = 1.847\n",
      "✔ Sample 042: PESQ = 4.038\n",
      "✔ Sample 043: PESQ = 4.169\n",
      "✔ Sample 044: PESQ = 4.162\n",
      "✔ Sample 045: PESQ = 2.400\n",
      "✔ Sample 046: PESQ = 3.143\n",
      "✔ Sample 047: PESQ = 3.001\n",
      "✔ Sample 048: PESQ = 4.029\n",
      "✔ Sample 049: PESQ = 1.843\n"
     ]
    }
   ],
   "source": [
    "for i in range(num_samples):\n",
    "    dry_path = os.path.join(dry_dir, f\"sample_{i:03d}.wav\")\n",
    "    fdn_path = os.path.join(rendered_dir, f\"rendered_{i:03d}_sample_{i:03d}.wav\")\n",
    "\n",
    "    try:\n",
    "        # Load audio\n",
    "        fs_dry, dry = wavfile.read(dry_path)\n",
    "        fs_fdn, fdn = wavfile.read(fdn_path)\n",
    "\n",
    "        # Check sample rate\n",
    "        if fs_dry != 16000 or fs_fdn != 16000:\n",
    "            print(f\"❌ Sample rate mismatch at index {i}\")\n",
    "            pesq_scores.append((i, None))\n",
    "            continue\n",
    "\n",
    "        # Convert stereo to mono if needed\n",
    "        if fdn.ndim == 2:\n",
    "            fdn = fdn.mean(axis=1)\n",
    "\n",
    "        # Trim to equal length\n",
    "        min_len = min(len(dry), len(fdn))\n",
    "        dry = dry[:min_len]\n",
    "        fdn = fdn[:min_len]\n",
    "\n",
    "        # Compute PESQ score\n",
    "        score = pesq(16000, dry, fdn, 'wb')\n",
    "        pesq_scores.append((i, score))\n",
    "        print(f\"✔ Sample {i:03d}: PESQ = {score:.3f}\")\n",
    "\n",
    "    except Exception as e:\n",
    "        print(f\"❌ Error at sample {i:03d}: {e}\")\n",
    "        pesq_scores.append((i, None))"
   ]
  },
  {
   "cell_type": "code",
   "execution_count": 9,
   "id": "f25ff613-8b5b-4862-aa1d-be3dbf47131a",
   "metadata": {},
   "outputs": [
    {
     "name": "stdout",
     "output_type": "stream",
     "text": [
      "✔ PESQ scores saved to: pesq_scores_fdn.csv\n",
      "✔ Summary statistics appended to CSV.\n"
     ]
    }
   ],
   "source": [
    "# Save PESQ scores to CSV\n",
    "df = pd.DataFrame(pesq_scores, columns=[\"Sample\", \"PESQ\"])\n",
    "df.to_csv(output_csv, index=False)\n",
    "print(f\"✔ PESQ scores saved to: {output_csv}\")\n",
    "\n",
    "# Compute and save summary statistics\n",
    "summary = {\n",
    "    \"Sample\": [\"Mean\", \"Median\", \"Std Dev\", \"Min\", \"Max\"],\n",
    "    \"PESQ\": [\n",
    "        df[\"PESQ\"].mean(),\n",
    "        df[\"PESQ\"].median(),\n",
    "        df[\"PESQ\"].std(),\n",
    "        df[\"PESQ\"].min(),\n",
    "        df[\"PESQ\"].max()\n",
    "    ]\n",
    "}\n",
    "\n",
    "summary_df = pd.DataFrame(summary)\n",
    "\n",
    "# Append summary statistics to the same CSV\n",
    "with open(output_csv, 'a') as f:\n",
    "    f.write(\"\\n\")  # separate with blank line\n",
    "summary_df.to_csv(output_csv, index=False, mode='a', header=True)\n",
    "print(\"✔ Summary statistics appended to CSV.\")"
   ]
  },
  {
   "cell_type": "code",
   "execution_count": 11,
   "id": "9eebf455-0e9b-4f38-9062-944afdc51bd8",
   "metadata": {},
   "outputs": [
    {
     "data": {
      "image/png": "[encoded data removed]",
      "text/plain": [
       "<Figure size 1000x500 with 1 Axes>"
      ]
     },
     "metadata": {},
     "output_type": "display_data"
    }
   ],
   "source": [
    "# Load your PESQ scores (if not already loaded)\n",
    "df = pd.read_csv(\"pesq_scores_fdn.csv\")\n",
    "\n",
    "# Filter numeric values (exclude summary rows)\n",
    "df = df[pd.to_numeric(df[\"PESQ\"], errors=\"coerce\").notnull()].copy()\n",
    "df[\"PESQ\"] = df[\"PESQ\"].astype(float)\n",
    "\n",
    "# Plot histogram\n",
    "plt.figure(figsize=(10, 5))\n",
    "plt.hist(df[\"PESQ\"], bins=15, color='salmon', edgecolor='black')\n",
    "plt.title(\"Distribution of PESQ Scores (FDN Rendered Audio)\")\n",
    "plt.xlabel(\"PESQ Score\")\n",
    "plt.ylabel(\"Number of Samples\")\n",
    "plt.grid(True)\n",
    "plt.tight_layout()\n",
    "plt.show()"
   ]
  },
  {
   "cell_type": "code",
   "execution_count": null,
   "id": "c93e1bcd-0a72-41d7-b05e-21a0eb0e20ba",
   "metadata": {},
   "outputs": [],
   "source": []
  }
 ],
 "metadata": {
  "kernelspec": {
   "display_name": "Python [conda env:base] *",
   "language": "python",
   "name": "conda-base-py"
  },
  "language_info": {
   "codemirror_mode": {
    "name": "ipython",
    "version": 3
   },
   "file_extension": ".py",
   "mimetype": "text/x-python",
   "name": "python",
   "nbconvert_exporter": "python",
   "pygments_lexer": "ipython3",
   "version": "3.12.2"
  }
 },
 "nbformat": 4,
 "nbformat_minor": 5
}
